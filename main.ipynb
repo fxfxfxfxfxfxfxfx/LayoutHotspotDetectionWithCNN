{
 "cells": [
  {
   "cell_type": "code",
   "execution_count": 17,
   "metadata": {},
   "outputs": [
    {
     "data": {
      "text/plain": [
       "'def evaluate_model(model, test_loader):\\n    model.eval()\\n    model.to(device)\\n    total = correct = false_alarms = 0\\n    with torch.no_grad():\\n        for images, labels in test_loader:\\n            images, labels = images.to(device), labels.to(device)\\n            outputs = model(images)\\n            _, predicted = torch.max(outputs, 1)\\n            correct += (predicted == labels).sum().item()\\n            total += labels.size(0)\\n            # Counting false alarms: Predicted as H (class 0) when actually N (class 1)\\n            false_alarms += ((predicted == 0) & (labels == 1)).sum().item()\\n\\n    accuracy = correct / total * 100\\n    return accuracy, false_alarms'"
      ]
     },
     "execution_count": 17,
     "metadata": {},
     "output_type": "execute_result"
    }
   ],
   "source": [
    "import torch\n",
    "import torch.nn as nn\n",
    "import torch.optim as optim\n",
    "from torch.utils.data import DataLoader\n",
    "from torchvision import datasets, transforms\n",
    "import os\n",
    "from tqdm import tqdm\n",
    "\n",
    "# Setup device\n",
    "device = torch.device(\"cuda\" if torch.cuda.is_available() else \"cpu\")\n",
    "\n",
    "# Define transformations\n",
    "transform = transforms.Compose([\n",
    "    transforms.Resize((64, 64)),\n",
    "    transforms.ToTensor(),\n",
    "    transforms.Normalize(mean=[0.485, 0.456, 0.406], std=[0.229, 0.224, 0.225])\n",
    "])\n",
    "\n",
    "# Load datasets\n",
    "def load_datasets(train_dir, test_dir, transform):\n",
    "    train_dataset = datasets.ImageFolder(root=train_dir, transform=transform)\n",
    "    test_dataset = datasets.ImageFolder(root=test_dir, transform=transform)\n",
    "    train_loader = DataLoader(train_dataset, batch_size=32, shuffle=True)\n",
    "    test_loader = DataLoader(test_dataset, batch_size=32, shuffle=False)\n",
    "    return train_loader, test_loader\n",
    "\n",
    "# Define the CNN model\n",
    "class CNN(nn.Module):\n",
    "    def __init__(self):\n",
    "        super(CNN, self).__init__()\n",
    "        self.conv1 = nn.Conv2d(3, 32, kernel_size=3, stride=1, padding=1)\n",
    "        self.conv2 = nn.Conv2d(32, 64, kernel_size=3, stride=1, padding=1)\n",
    "        self.fc1 = nn.Linear(64 * 16 * 16, 128)  # Adjusted for input size of 64\n",
    "        self.fc2 = nn.Linear(128, 2)  # Binary classification: output size 2 for using CrossEntropyLoss\n",
    "        self.pool = nn.MaxPool2d(2, 2)\n",
    "        self.relu = nn.ReLU()\n",
    "\n",
    "    def forward(self, x):\n",
    "        x = self.pool(self.relu(self.conv1(x)))\n",
    "        x = self.pool(self.relu(self.conv2(x)))\n",
    "        x = x.view(-1, 64 * 16 * 16)  # Adjusted flatten layer to match output of last conv layer\n",
    "        x = self.relu(self.fc1(x))\n",
    "        x = self.fc2(x)\n",
    "        return x\n",
    "\n",
    "# Training the model with tqdm visualization\n",
    "def train_model(model, train_loader, criterion, optimizer, num_epochs=10):\n",
    "    model.train()\n",
    "    model.to(device)\n",
    "    for epoch in range(num_epochs):\n",
    "        # Adding tqdm progress bar\n",
    "        with tqdm(total=len(train_loader), desc=f\"Epoch {epoch + 1}/{num_epochs}\", unit='batch') as pbar:\n",
    "            for images, labels in train_loader:\n",
    "                images, labels = images.to(device), labels.to(device)\n",
    "                optimizer.zero_grad()\n",
    "                outputs = model(images)\n",
    "                loss = criterion(outputs, labels)\n",
    "                loss.backward()\n",
    "                optimizer.step()\n",
    "                pbar.set_postfix(loss=loss.item())\n",
    "                pbar.update()\n",
    "\n",
    "# Custom metric calculation for accuracy and false alarms\n",
    "'''def evaluate_model(model, test_loader):\n",
    "    model.eval()\n",
    "    model.to(device)\n",
    "    total = correct = false_alarms = 0\n",
    "    with torch.no_grad():\n",
    "        for images, labels in test_loader:\n",
    "            images, labels = images.to(device), labels.to(device)\n",
    "            outputs = model(images)\n",
    "            _, predicted = torch.max(outputs, 1)\n",
    "            correct += (predicted == labels).sum().item()\n",
    "            total += labels.size(0)\n",
    "            # Counting false alarms: Predicted as H (class 0) when actually N (class 1)\n",
    "            false_alarms += ((predicted == 0) & (labels == 1)).sum().item()\n",
    "\n",
    "    accuracy = correct / total * 100\n",
    "    return accuracy, false_alarms'''\n",
    "\n"
   ]
  },
  {
   "cell_type": "code",
   "execution_count": 18,
   "metadata": {},
   "outputs": [],
   "source": [
    "def evaluate_model(model, test_loader):\n",
    "    model.eval()\n",
    "    model.to(device)\n",
    "    total_hotspots = correct_hotspots = false_alarms = 0\n",
    "    # 使用tqdm显示评估进度\n",
    "    with torch.no_grad(), tqdm(total=len(test_loader), desc='Evaluating', unit='batch') as pbar:\n",
    "        for images, labels in test_loader:\n",
    "            images, labels = images.to(device), labels.to(device)\n",
    "            outputs = model(images)\n",
    "            _, predicted = torch.max(outputs, 1)\n",
    "            # 更新正确预测的热点计数\n",
    "            correct_hotspots += ((predicted == 0) & (labels == 0)).sum().item()\n",
    "            # 更新总热点计数\n",
    "            total_hotspots += (labels == 0).sum().item()\n",
    "            # 计算误报：预测为H类（热点，class 0）但实际为N类（无热点，class 1）\n",
    "            false_alarms += ((predicted == 0) & (labels == 1)).sum().item()\n",
    "            pbar.update()\n",
    "\n",
    "    hotspot_accuracy = (correct_hotspots / total_hotspots * 100) if total_hotspots > 0 else 0\n",
    "    return hotspot_accuracy, false_alarms"
   ]
  },
  {
   "cell_type": "code",
   "execution_count": 19,
   "metadata": {},
   "outputs": [
    {
     "name": "stderr",
     "output_type": "stream",
     "text": [
      "Epoch 1/10: 100%|██████████| 572/572 [06:28<00:00,  1.47batch/s, loss=0.0188]  \n",
      "Epoch 2/10: 100%|██████████| 572/572 [06:30<00:00,  1.47batch/s, loss=0.024]   \n",
      "Epoch 3/10: 100%|██████████| 572/572 [06:28<00:00,  1.47batch/s, loss=0.0146]  \n",
      "Epoch 4/10: 100%|██████████| 572/572 [06:29<00:00,  1.47batch/s, loss=0.0148]  \n",
      "Epoch 5/10: 100%|██████████| 572/572 [06:30<00:00,  1.46batch/s, loss=0.00696] \n",
      "Epoch 6/10: 100%|██████████| 572/572 [06:29<00:00,  1.47batch/s, loss=0.0191]  \n",
      "Epoch 7/10: 100%|██████████| 572/572 [06:30<00:00,  1.46batch/s, loss=0.0121]  \n",
      "Epoch 8/10: 100%|██████████| 572/572 [06:29<00:00,  1.47batch/s, loss=0.0133]  \n",
      "Epoch 9/10: 100%|██████████| 572/572 [06:32<00:00,  1.46batch/s, loss=0.00245] \n",
      "Epoch 10/10: 100%|██████████| 572/572 [06:32<00:00,  1.46batch/s, loss=0.00181] \n"
     ]
    }
   ],
   "source": [
    "train_loader, test_loader = load_datasets(r'dataset/train', r'dataset/test', transform)\n",
    "model = CNN()\n",
    "criterion = nn.CrossEntropyLoss()\n",
    "optimizer = optim.Adam(model.parameters(), lr=0.001)\n",
    "train_model(model, train_loader, criterion, optimizer)\n"
   ]
  },
  {
   "cell_type": "code",
   "execution_count": 21,
   "metadata": {},
   "outputs": [
    {
     "name": "stdout",
     "output_type": "stream",
     "text": [
      "数据已追加到文件中。\n"
     ]
    }
   ],
   "source": [
    "accuracy, false_alarms = evaluate_model(model, test_loader)\n",
    "print(accuracy, false_alarms)\n",
    "# 指定文件路径\n",
    "file_path = 'results.txt'\n",
    "# 打开文件以追加模式写入\n",
    "with open(file_path, 'a') as file:\n",
    "    # 将变量写入文件，每个变量占一行\n",
    "    file.write(f\"Accuracy: {accuracy}\\n\")\n",
    "    file.write(f\"False Alarms: {false_alarms}\\n\")\n"
   ]
  }
 ],
 "metadata": {
  "kernelspec": {
   "display_name": "eNet",
   "language": "python",
   "name": "python3"
  },
  "language_info": {
   "codemirror_mode": {
    "name": "ipython",
    "version": 3
   },
   "file_extension": ".py",
   "mimetype": "text/x-python",
   "name": "python",
   "nbconvert_exporter": "python",
   "pygments_lexer": "ipython3",
   "version": "3.8.19"
  }
 },
 "nbformat": 4,
 "nbformat_minor": 2
}
